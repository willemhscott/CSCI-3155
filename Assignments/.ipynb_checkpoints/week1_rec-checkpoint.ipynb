{
 "cells": [
  {
   "cell_type": "markdown",
   "metadata": {},
   "source": [
    "# Writing Scala Functions without using `return`\n",
    "\n"
   ]
  },
  {
   "cell_type": "markdown",
   "metadata": {},
   "source": [
    "## Example 1"
   ]
  },
  {
   "cell_type": "code",
   "execution_count": 0,
   "metadata": {},
   "outputs": [
    {
     "name": "stderr",
     "output_type": "stream",
     "text": [
      "(console):10:14 expected \")\"\r\n",
      "// Rewrite this function without using return.\n",
      "def foo(x: Int, y: Int): Int = { \n",
      "    if (x == 0) return 1\n",
      "    if (x >= 0 && y < 0) return x - y\n",
      "    return x + y\n",
      "} \n",
      "\n",
      "def func(n) = {\n",
      "    (0 to n)\n",
      "        .map(case (i) -> i % 3 == 2)\n",
      "        .any()\n",
      "}\n",
      "println(func(5))\r\n",
      "                                                                                                                                                                                                               ^"
     ]
    },
    {
     "ename": "",
     "evalue": "",
     "output_type": "error",
     "traceback": [
      "(console):10:14 expected \")\"\r\n// Rewrite this function without using return.\ndef foo(x: Int, y: Int): Int = { \n    if (x == 0) return 1\n    if (x >= 0 && y < 0) return x - y\n    return x + y\n} \n\ndef func(n) = {\n    (0 to n)\n        .map(case (i) -> i % 3 == 2)\n        .any()\n}\nprintln(func(5))\r\n                                                                                                                                                                                                               ^"
     ]
    }
   ],
   "source": [
    "// Rewrite this function without using return.\n",
    "def foo(x: Int, y: Int): Int = { \n",
    "    if (x == 0) return 1\n",
    "    if (x >= 0 && y < 0) return x - y\n",
    "    return x + y\n",
    "} \n",
    "\n",
    "def func(n) = {\n",
    "    (0 to n)\n",
    "        .map(case (i) -> i % 3 == 2)\n",
    "        .any()\n",
    "}\n",
    "println(func(5))"
   ]
  },
  {
   "cell_type": "code",
   "execution_count": 4,
   "metadata": {},
   "outputs": [
    {
     "data": {
      "text/plain": [
       "\u001b[36mres3\u001b[39m: \u001b[32mInt\u001b[39m = \u001b[32m4\u001b[39m"
      ]
     },
     "execution_count": 4,
     "metadata": {},
     "output_type": "execute_result"
    }
   ],
   "source": [
    "foo(1,-3)"
   ]
  },
  {
   "cell_type": "code",
   "execution_count": 6,
   "metadata": {},
   "outputs": [
    {
     "data": {
      "text/plain": [
       "defined \u001b[32mfunction\u001b[39m \u001b[36mfoo2\u001b[39m"
      ]
     },
     "execution_count": 6,
     "metadata": {},
     "output_type": "execute_result"
    }
   ],
   "source": [
    "def foo2(x: Int, y: Int): Int = {\n",
    "    if (x == 0)  ??? \n",
    "    else if (x >= 0 && y < 0) ??? // the else case is important here\n",
    "    else ??? // the else case is important here\n",
    "}"
   ]
  },
  {
   "cell_type": "code",
   "execution_count": 5,
   "metadata": {},
   "outputs": [
    {
     "data": {
      "text/plain": [
       "defined \u001b[32mfunction\u001b[39m \u001b[36mfoo3\u001b[39m"
      ]
     },
     "execution_count": 5,
     "metadata": {},
     "output_type": "execute_result"
    }
   ],
   "source": [
    "// What does this function return? \n",
    "// Note this function is derived from `foo` but with the keyword return taken away.\n",
    "def foo3(x: Int, y: Int): Int = { \n",
    "    if (x == 0) { 1 } \n",
    "    if (x >= 0 && y < 0) { x - y }\n",
    "    return x + y\n",
    "} "
   ]
  },
  {
   "cell_type": "markdown",
   "metadata": {},
   "source": [
    "## Example 2"
   ]
  },
  {
   "cell_type": "code",
   "execution_count": 8,
   "metadata": {},
   "outputs": [
    {
     "data": {
      "text/plain": [
       "defined \u001b[32mfunction\u001b[39m \u001b[36mbar\u001b[39m"
      ]
     },
     "execution_count": 8,
     "metadata": {},
     "output_type": "execute_result"
    }
   ],
   "source": [
    "// Rewrite this function without using return.\n",
    "def bar(x : Int): Int  = {\n",
    "    if ( x <= 0) return 20\n",
    "    val y = x * x - x\n",
    "    if (y >= 0 && y < 10) return 45\n",
    "    return y\n",
    "}"
   ]
  },
  {
   "cell_type": "code",
   "execution_count": 10,
   "metadata": {},
   "outputs": [
    {
     "data": {
      "text/plain": [
       "defined \u001b[32mfunction\u001b[39m \u001b[36mbar2\u001b[39m"
      ]
     },
     "execution_count": 10,
     "metadata": {},
     "output_type": "execute_result"
    }
   ],
   "source": [
    "def bar2(x: Int): Int = {\n",
    "    if (x <= 0) { ??? }\n",
    "    else {\n",
    "        val y: Int = ???\n",
    "        if ( y >= 0 && y < 10) { ??? } else { ??? } \n",
    "    }\n",
    "}"
   ]
  },
  {
   "cell_type": "code",
   "execution_count": 15,
   "metadata": {},
   "outputs": [
    {
     "data": {
      "text/plain": [
       "defined \u001b[32mfunction\u001b[39m \u001b[36mbar3\u001b[39m"
      ]
     },
     "execution_count": 15,
     "metadata": {},
     "output_type": "execute_result"
    }
   ],
   "source": [
    "// What if we just removed the “return” keyword from the function? What does this function do?\n",
    "def bar3(x : Int): Int  = {\n",
    "    if ( x <= 0)  { 20 } \n",
    "    val y = x * x - x\n",
    "    if (y >= 0 && y < 10) {  45  } \n",
    "    y\n",
    "}"
   ]
  },
  {
   "cell_type": "code",
   "execution_count": null,
   "metadata": {},
   "outputs": [],
   "source": [
    "bar3(2)"
   ]
  },
  {
   "cell_type": "markdown",
   "metadata": {},
   "source": [
    "## Example 3"
   ]
  },
  {
   "cell_type": "code",
   "execution_count": 1,
   "metadata": {},
   "outputs": [
    {
     "data": {
      "text/plain": [
       "defined \u001b[32mfunction\u001b[39m \u001b[36msimpleFun\u001b[39m"
      ]
     },
     "execution_count": 1,
     "metadata": {},
     "output_type": "execute_result"
    }
   ],
   "source": [
    "// Why does this function raise an error?\n",
    "def simpleFun(x: Int): Int = {\n",
    "    if ( x <= 0) 10\n",
    "    else if ( x <= 10) 20\n",
    "    else 30\n",
    "}"
   ]
  },
  {
   "cell_type": "code",
   "execution_count": 17,
   "metadata": {},
   "outputs": [
    {
     "data": {
      "text/plain": [
       "defined \u001b[32mfunction\u001b[39m \u001b[36msimpleFun2\u001b[39m"
      ]
     },
     "execution_count": 17,
     "metadata": {},
     "output_type": "execute_result"
    }
   ],
   "source": [
    "// Can you reimplement it?\n",
    "def simpleFun2(x: Int) : Int = {\n",
    "   if (???) { 10 } \n",
    "   else if ( ??? ) { 20 } \n",
    "   else { 30 } \n",
    "} "
   ]
  },
  {
   "cell_type": "markdown",
   "metadata": {},
   "source": [
    "# Recursion\n",
    "\n",
    "Consider the following function:\n",
    "\n",
    "$\n",
    "f(x) =\n",
    "\\begin{cases}\n",
    "x/2\\ \\ \\ \\ \\ \\ \\ \\ \\ \\text{if $x$ is divisible by $2$} \\\\\n",
    "3x + 1\\ \\ \\ \\text{else}\n",
    "\\end{cases}\n",
    "$\n",
    "\n",
    "The Collatz conjecture says that applying this function repeatedly to any starting positive integer will eventually return 1.\n",
    "\n",
    "Here is a function that tests the conjecture using a while loop. The function verifies the conjecture for the given input if the function terminates."
   ]
  },
  {
   "cell_type": "code",
   "execution_count": 20,
   "metadata": {},
   "outputs": [
    {
     "data": {
      "text/plain": [
       "defined \u001b[32mfunction\u001b[39m \u001b[36mtestCollatzConjecture\u001b[39m"
      ]
     },
     "execution_count": 20,
     "metadata": {},
     "output_type": "execute_result"
    }
   ],
   "source": [
    "def testCollatzConjecture(x : Int) : Int = {\n",
    "    var n = x\n",
    "    while (n != 1) {\n",
    "        if (n % 2 == 0) {\n",
    "            n = n / 2\n",
    "        } else {\n",
    "            n = 3 * n + 1\n",
    "        }\n",
    "    }\n",
    "    // Last expression evaluated in a function is returned\n",
    "    n\n",
    "}"
   ]
  },
  {
   "cell_type": "code",
   "execution_count": 21,
   "metadata": {},
   "outputs": [],
   "source": [
    "assert(testCollatzConjecture(5) == 1)\n",
    "assert(testCollatzConjecture(17) == 1)\n",
    "assert(testCollatzConjecture(10485) == 1)"
   ]
  },
  {
   "cell_type": "markdown",
   "metadata": {},
   "source": [
    "Now let's implement the same function using recursion."
   ]
  },
  {
   "cell_type": "code",
   "execution_count": 4,
   "metadata": {
    "deletable": false,
    "nbgrader": {
     "checksum": "995015f979e796f66d56b862bb9c0f97",
     "grade": false,
     "grade_id": "cell-c9370c5086aca05b",
     "locked": false,
     "schema_version": 1,
     "solution": true
    }
   },
   "outputs": [
    {
     "data": {
      "text/plain": [
       "defined \u001b[32mfunction\u001b[39m \u001b[36mtestCollatzConjectureRec\u001b[39m"
      ]
     },
     "execution_count": 4,
     "metadata": {},
     "output_type": "execute_result"
    }
   ],
   "source": [
    "def testCollatzConjectureRec(x : Int) : Int = {\n",
    "    // YOUR CODE HERE\n",
    "    ???\n",
    "}"
   ]
  },
  {
   "cell_type": "code",
   "execution_count": 21,
   "metadata": {},
   "outputs": [
    {
     "name": "stderr",
     "output_type": "stream",
     "text": [
      "cmd21.sc:1: not found: value testCollatzConjectureRec\n",
      "val res21_0 = assert(testCollatzConjectureRec(5) == 1)\n",
      "                     ^cmd21.sc:2: not found: value testCollatzConjectureRec\n",
      "val res21_1 = assert(testCollatzConjectureRec(17) == 1)\n",
      "                     ^cmd21.sc:3: not found: value testCollatzConjectureRec\n",
      "val res21_2 = assert(testCollatzConjectureRec(10485) == 1)\n",
      "                     ^Compilation Failed"
     ]
    },
    {
     "ename": "",
     "evalue": "",
     "output_type": "error",
     "traceback": [
      "Compilation Failed"
     ]
    }
   ],
   "source": [
    "assert(testCollatzConjectureRec(5) == 1)\n",
    "assert(testCollatzConjectureRec(17) == 1)\n",
    "assert(testCollatzConjectureRec(10485) == 1)"
   ]
  },
  {
   "cell_type": "markdown",
   "metadata": {},
   "source": [
    "## Classes and Operators\n",
    "\n",
    "A `BodyOfWater` keeps track of how many fish it contains.\n",
    "1. Implement an `removeFish` method for removing fish from the `BodyOfWater` to produce a new `BodyOfWater.\n",
    "2. Then, implement a new `<><` operator which removes the given number of fish and can be used like this: `lake <>< 2` (meaninng: go fishing for 2 fish in a lake). This can use your `removeFish` method.\n",
    "3. Finaly, overload the existing `+` operator to add a `BodyOfWater` to another by creating a new `BodyOfWater` with the number of fish being the sum of the two inputs."
   ]
  },
  {
   "cell_type": "code",
   "execution_count": 19,
   "metadata": {
    "deletable": false,
    "nbgrader": {
     "checksum": "4b0c17fd5ebaa827ead12baf2d9b2380",
     "grade": false,
     "grade_id": "cell-5f6a47f2f40e8fc7",
     "locked": false,
     "schema_version": 1,
     "solution": true
    }
   },
   "outputs": [
    {
     "data": {
      "text/plain": [
       "defined \u001b[32mclass\u001b[39m \u001b[36mBodyOfWater\u001b[39m"
      ]
     },
     "execution_count": 19,
     "metadata": {},
     "output_type": "execute_result"
    }
   ],
   "source": [
    "class BodyOfWater(val numFish: Int) {\n",
    "\n",
    "    def removeFish(n: Int): BodyOfWater = {\n",
    "        // YOUR CODE HERE\n",
    "        ???\n",
    "    }\n",
    "\n",
    "    def <><(n: Int): BodyOfWater = {\n",
    "        // YOUR CODE HERE\n",
    "        ???\n",
    "    }\n",
    "\n",
    "    def +(that: BodyOfWater): BodyOfWater = {\n",
    "        // YOUR CODE HERE\n",
    "        ???\n",
    "    }\n",
    "\n",
    "}"
   ]
  },
  {
   "cell_type": "code",
   "execution_count": 9,
   "metadata": {},
   "outputs": [
    {
     "name": "stderr",
     "output_type": "stream",
     "text": [
      "cmd9.sc:2: value <>< is not a member of cmd9.this.cmd8.BodyOfWater\n",
      "val lake2 = lake <>< 5\n",
      "                 ^cmd9.sc:8: value numFish is not a member of String\n",
      "val res9_6 = testWithMessage(lake3.numFish == 15, \"3\")\n",
      "                                   ^Compilation Failed"
     ]
    },
    {
     "ename": "",
     "evalue": "",
     "output_type": "error",
     "traceback": [
      "Compilation Failed"
     ]
    }
   ],
   "source": [
    "val lake = new BodyOfWater(10)\n",
    "val lake2 = lake <>< 5\n",
    "val lake3 = lake + lake2\n",
    "val lake4 = lake.+(lake2)\n",
    "\n",
    "assert(lake.numFish == 10)\n",
    "assert(lake2.numFish == 5)\n",
    "assert(lake3.numFish == 15)"
   ]
  },
  {
   "cell_type": "code",
   "execution_count": null,
   "metadata": {},
   "outputs": [],
   "source": []
  }
 ],
 "metadata": {
  "kernelspec": {
   "display_name": "Scala",
   "language": "scala",
   "name": "scala"
  },
  "language_info": {
   "codemirror_mode": "text/x-scala",
   "file_extension": ".sc",
   "mimetype": "text/x-scala",
   "name": "scala",
   "nbconvert_exporter": "script",
   "version": "2.13.3"
  }
 },
 "nbformat": 4,
 "nbformat_minor": 2
}
