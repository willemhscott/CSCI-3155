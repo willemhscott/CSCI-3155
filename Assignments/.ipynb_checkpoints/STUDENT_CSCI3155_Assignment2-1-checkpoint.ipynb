{
 "cells": [
  {
   "cell_type": "markdown",
   "metadata": {},
   "source": [
    "Before you turn this problem in, make sure everything runs as expected. \n",
    "  1. First, **restart the kernel** (in the menubar, select Kernel$\\rightarrow$Restart) and \n",
    "  2. Then **run all cells** (in the menubar, select Cell$\\rightarrow$Run All).\n",
    "\n",
    "Make sure you fill in any place that says `YOUR CODE HERE` or \"YOUR ANSWER HERE\", as well as your name below. "
   ]
  },
  {
   "cell_type": "markdown",
   "metadata": {},
   "source": [
    "---"
   ]
  },
  {
   "cell_type": "markdown",
   "metadata": {
    "deletable": false,
    "editable": false,
    "nbgrader": {
     "cell_type": "markdown",
     "checksum": "5ff89b158e3ee1650ac4a16590e6aa84",
     "grade": false,
     "grade_id": "cell-e0dcd8e0c2513390",
     "locked": true,
     "schema_version": 3,
     "solution": false
    }
   },
   "source": [
    "# CSCI 3155: Assignment 2\n",
    "\n",
    "Topics covered: recursion and inductive definitions."
   ]
  },
  {
   "cell_type": "markdown",
   "metadata": {},
   "source": [
    "__YOUR NAME HERE__\n",
    "\n",
    "Note: Please first run the `TEST HELPER` cell that defines the `passed` function below. Failing to run this cell will make it hard for you to check your work."
   ]
  },
  {
   "cell_type": "code",
   "execution_count": null,
   "metadata": {
    "deletable": false,
    "editable": false,
    "nbgrader": {
     "cell_type": "code",
     "checksum": "96678f5d66f4c661e13ffc883498a235",
     "grade": false,
     "grade_id": "cell-0ff5abf81cd57123",
     "locked": true,
     "schema_version": 3,
     "solution": false
    }
   },
   "outputs": [],
   "source": [
    "// TEST HELPER\n",
    "def passed(points: Int) {\n",
    "    require(points >=0)\n",
    "    if (points == 1) print(s\"\\n*** Tests Passed (1 point) ***\\n\")\n",
    "    else print(s\"\\n*** Tests Passed ($points points) ***\\n\")\n",
    "}"
   ]
  },
  {
   "cell_type": "markdown",
   "metadata": {
    "deletable": false,
    "editable": false,
    "nbgrader": {
     "cell_type": "markdown",
     "checksum": "aa476612e71503bca649bc5184017119",
     "grade": false,
     "grade_id": "cell-edc3a04e8cb8306b",
     "locked": true,
     "schema_version": 3,
     "solution": false
    }
   },
   "source": [
    "## Problem 1 (10 points total)"
   ]
  },
  {
   "cell_type": "markdown",
   "metadata": {
    "deletable": false,
    "editable": false,
    "nbgrader": {
     "cell_type": "markdown",
     "checksum": "1654de5ce6f037bc5f60760e9fa1f4a7",
     "grade": false,
     "grade_id": "cell-b52581c289282f6d",
     "locked": true,
     "schema_version": 3,
     "solution": false
    }
   },
   "source": [
    "### A (5 points) Recursively compute binary representation\n",
    "\n",
    "Given a positive integer $n$, we wish to compute its binary representation as a string. \n",
    "\n",
    "  - Use of var and loops forbidden. \n",
    "  - Inbuilt functions that directly perform conversion are also forbidden.\n",
    "\n",
    "__Example:__ if input is 5, output should be \"101\".\n",
    "\n",
    "Use the following scheme:\n",
    "  - If number is 0 or 1, we can convert them into binary string \"0\" or \"1\", respectively.\n",
    "  - If input number `n` is odd, recursively convert `(n-1)/2` into binary and append a `1` to the end of the string returned.\n",
    "  - else  (input number `n` is even) convert `n/2` into binary and append `0` to end of the string returned.\n"
   ]
  },
  {
   "cell_type": "code",
   "execution_count": null,
   "metadata": {
    "deletable": false,
    "nbgrader": {
     "cell_type": "code",
     "checksum": "b01915beb08db1855a8f56168965cad4",
     "grade": false,
     "grade_id": "answer_1a",
     "locked": false,
     "schema_version": 3,
     "solution": true
    }
   },
   "outputs": [],
   "source": [
    "def convertToBinary(n: Int): String = {\n",
    "    require( n >= 0) // If this is violated, you will get a \"requirement failed message\"\n",
    "    // YOUR CODE HERE\n",
    "    ???\n",
    "}"
   ]
  },
  {
   "cell_type": "code",
   "execution_count": null,
   "metadata": {
    "deletable": false,
    "editable": false,
    "nbgrader": {
     "cell_type": "code",
     "checksum": "fcd64421846b1aee5044ac9459ebac0e",
     "grade": true,
     "grade_id": "tests_1a",
     "locked": true,
     "points": 5,
     "schema_version": 3,
     "solution": false
    }
   },
   "outputs": [],
   "source": [
    "//BEGIN TEST\n",
    "assert(convertToBinary(1) == \"1\", \"(1)decimal must be 1 binary\")\n",
    "assert(convertToBinary(5) == \"101\", \"5 must be 101 binary\")\n",
    "assert(convertToBinary(11) == \"1011\", \"(11) must be 1011\")\n",
    "assert(convertToBinary(4100) == \"1000000000100\", \"(4100) must be 1000000000100\")\n",
    "assert(convertToBinary(30108100) == \"1110010110110100111000100\", \"(30108100) must be 1110010110110100111000100\")\n",
    "passed(5)\n",
    "//END TEST"
   ]
  },
  {
   "cell_type": "markdown",
   "metadata": {
    "deletable": false,
    "editable": false,
    "nbgrader": {
     "cell_type": "markdown",
     "checksum": "b4bbfab317df9ec70ca864176d26838d",
     "grade": false,
     "grade_id": "cell-12d5214e2a806a43",
     "locked": true,
     "schema_version": 3,
     "solution": false
    }
   },
   "source": [
    "### B (5 points) _Tail_ Recursive `convertToBinary`\n",
    "Now, write a tail recursive version of the `convertToBinary` function, called `convertToBinaryTail`. \n",
    "\n",
    "You should implement the helper function as a tail recursive function. \n",
    "\n",
    "Use of var and loops forbidden. Inbuilt functions that directly perform conversion are also forbidden."
   ]
  },
  {
   "cell_type": "code",
   "execution_count": null,
   "metadata": {
    "deletable": false,
    "nbgrader": {
     "cell_type": "code",
     "checksum": "5b410e2354fbbb90ac9256da046c3936",
     "grade": false,
     "grade_id": "answer_1b",
     "locked": false,
     "schema_version": 3,
     "solution": true
    }
   },
   "outputs": [],
   "source": [
    "import scala.annotation.tailrec\n",
    "\n",
    "@tailrec\n",
    "final def convertToBinaryHelper(n: Int, stringSoFar: String): String = {\n",
    "    require(n >= 1)\n",
    "    // YOUR CODE HERE\n",
    "    ???\n",
    "}\n",
    "\n",
    "def convertToBinaryTail(n: Int): String = { \n",
    "    // YOUR CODE HERE\n",
    "    ???\n",
    "}\n"
   ]
  },
  {
   "cell_type": "code",
   "execution_count": null,
   "metadata": {
    "deletable": false,
    "editable": false,
    "nbgrader": {
     "cell_type": "code",
     "checksum": "78bcc8ec0163ce3a3677d677902738b2",
     "grade": true,
     "grade_id": "tests_1b",
     "locked": true,
     "points": 5,
     "schema_version": 3,
     "solution": false
    }
   },
   "outputs": [],
   "source": [
    "// BEGIN TEST\n",
    "assert(convertToBinaryTail(1) == \"1\", \"(1)decimal must be 1 binary\")\n",
    "assert(convertToBinaryTail(5) == \"101\", \"5 must be 101 binary\")\n",
    "assert(convertToBinaryTail(11) == \"1011\", \"(11) must be 1011\")\n",
    "assert(convertToBinaryTail(4100) == \"1000000000100\", \"(4100) must be 1000000000100\")\n",
    "assert(convertToBinaryTail(30108100) == \"1110010110110100111000100\", \"(30108100) must be 1110010110110100111000100\")\n",
    "passed(5)\n",
    "//END TEST"
   ]
  },
  {
   "cell_type": "markdown",
   "metadata": {
    "deletable": false,
    "editable": false,
    "nbgrader": {
     "cell_type": "markdown",
     "checksum": "26ada2503c07c0700446e626f06268a2",
     "grade": false,
     "grade_id": "cell-ea75378d2e0e50c2",
     "locked": true,
     "schema_version": 3,
     "solution": false
    }
   },
   "source": [
    "## Problem 2 (18 points)"
   ]
  },
  {
   "cell_type": "markdown",
   "metadata": {
    "deletable": false,
    "editable": false,
    "nbgrader": {
     "cell_type": "markdown",
     "checksum": "f3c1ed41c4981417f6ff39eb9958105c",
     "grade": false,
     "grade_id": "cell-a586cec16d8a92e7",
     "locked": true,
     "schema_version": 3,
     "solution": false
    }
   },
   "source": [
    "## Part A\n",
    "Convert the iterative function below provided as a loop into a tail recursive version.\n"
   ]
  },
  {
   "cell_type": "code",
   "execution_count": null,
   "metadata": {
    "deletable": false,
    "editable": false,
    "nbgrader": {
     "cell_type": "code",
     "checksum": "3f557c0e527b312300c72b959f47bb35",
     "grade": false,
     "grade_id": "cell-815e98469269ed5e",
     "locked": true,
     "schema_version": 3,
     "solution": false
    }
   },
   "outputs": [],
   "source": [
    "def seriesSummationUsingLoop(a: Int, b: Int, func: Int => Int): Int = {\n",
    "    var acc = 0\n",
    "    var i = a\n",
    "    while (i <= b){\n",
    "        acc = acc + func(i)\n",
    "        i = i + 1\n",
    "    }\n",
    "    return acc\n",
    "}"
   ]
  },
  {
   "cell_type": "markdown",
   "metadata": {
    "deletable": false,
    "editable": false,
    "nbgrader": {
     "cell_type": "markdown",
     "checksum": "e31c297d96f8834993c2ace385dc6483",
     "grade": false,
     "grade_id": "cell-41b11e6aa881ddb4",
     "locked": true,
     "schema_version": 3,
     "solution": false
    }
   },
   "source": [
    "Implement a tail recursive version using an accumulator argument to the function and a counter argument as shown below.\n",
    "Use of var/loops is forbidden."
   ]
  },
  {
   "cell_type": "code",
   "execution_count": null,
   "metadata": {
    "deletable": false,
    "nbgrader": {
     "cell_type": "code",
     "checksum": "2233db549eb6c91661ab087aa413e929",
     "grade": false,
     "grade_id": "answer_2",
     "locked": false,
     "schema_version": 3,
     "solution": true
    }
   },
   "outputs": [],
   "source": [
    "import scala.annotation.tailrec\n",
    "\n",
    "@tailrec\n",
    "def tailRecursiveSummationHelper(b: Int, func: Int => Int, i: Int, acc: Int): Int = {\n",
    "    assert(i <= b)\n",
    "    // YOUR CODE HERE\n",
    "    ???\n",
    "}\n",
    "\n",
    "def tailRecursiveSummation(a: Int, b: Int, func: Int => Int) = {\n",
    "    tailRecursiveSummationHelper(b, func, a, 0)\n",
    "}"
   ]
  },
  {
   "cell_type": "code",
   "execution_count": null,
   "metadata": {
    "deletable": false,
    "editable": false,
    "nbgrader": {
     "cell_type": "code",
     "checksum": "4aca4b4548d1f9dfe4627fea9f27c020",
     "grade": true,
     "grade_id": "tests_2",
     "locked": true,
     "points": 8,
     "schema_version": 3,
     "solution": false
    }
   },
   "outputs": [],
   "source": [
    "//BEGIN TEST\n",
    "val square = (i: Int) => i*i\n",
    "val ident = (i:Int) => i\n",
    "assert(tailRecursiveSummation(1, 10, ident) == 55, \"summation of 1 to 10 is 55\")\n",
    "assert(tailRecursiveSummation(1, 4, square) == 30, \"summation of 1^2+2^2+3^2+4^2 is 30\")\n",
    "assert(tailRecursiveSummation(4, 4, square) == 16, \"summation of 4^2 is 16\")\n",
    "assert(tailRecursiveSummation(-1, 1, ident) == 0, \"summation of -1+0+1 is 0\")\n",
    "\n",
    "passed(8)\n",
    "//END TEST"
   ]
  },
  {
   "cell_type": "markdown",
   "metadata": {
    "deletable": false,
    "editable": false,
    "nbgrader": {
     "cell_type": "markdown",
     "checksum": "1a599acfd2cc2795255ca9e27458bd1f",
     "grade": false,
     "grade_id": "cell-3725140cf517f18e",
     "locked": true,
     "schema_version": 3,
     "solution": false,
     "task": false
    }
   },
   "source": [
    "## Part B\n",
    "Convert the iterative function below provided as a loop into a tail recursive version.\n",
    "\n",
    "The function checks if `pat` occurs as a substring in string `str`.\n",
    "But rather than use a nested loop, it uses a single while loop.\n"
   ]
  },
  {
   "cell_type": "code",
   "execution_count": null,
   "metadata": {
    "deletable": false,
    "editable": false,
    "nbgrader": {
     "cell_type": "code",
     "checksum": "cd3cc683e90e01c5a2a735bebcfe27f5",
     "grade": false,
     "grade_id": "cell-b68e66ca4c33faea",
     "locked": true,
     "schema_version": 3,
     "solution": false,
     "task": false
    }
   },
   "outputs": [],
   "source": [
    "def findPatternInString(str: String, pat: String): Boolean = {\n",
    "    val n1 = str.size\n",
    "    val n2 = pat.size\n",
    "    var i = 0\n",
    "    var j = 0\n",
    "    while (i < n1 - n2 + 1){\n",
    "        if ( j < n2 && str(i+j) == pat(j)){\n",
    "            j = j + 1\n",
    "        } else if (j == n2) {\n",
    "            return true\n",
    "        } else { \n",
    "            i = i + 1\n",
    "            j = 0\n",
    "        }\n",
    "    }\n",
    "    return false\n",
    "}"
   ]
  },
  {
   "cell_type": "code",
   "execution_count": null,
   "metadata": {
    "deletable": false,
    "editable": false,
    "nbgrader": {
     "cell_type": "code",
     "checksum": "620c5f785cd8f71f472b100547238822",
     "grade": false,
     "grade_id": "cell-4dedc5eb16d2dbac",
     "locked": true,
     "schema_version": 3,
     "solution": false,
     "task": false
    }
   },
   "outputs": [],
   "source": [
    "findPatternInString(\"hello\", \"ll\")\n",
    "findPatternInString(\"hello\", \"ellx\")\n",
    "findPatternInString(\"hello\", \"ello\")\n",
    "findPatternInString(\"hello\", \"hellx\")\n",
    "findPatternInString(\"hello\", \"helloo\")\n",
    "findPatternInString(\"hello\", \"hello\")\n",
    "findPatternInString(\"hello\", \"\")\n",
    "findPatternInString(\"heheeheeeheeee\", \"heeee\")\n",
    "findPatternInString(\"hello\", \"helo\")"
   ]
  },
  {
   "cell_type": "markdown",
   "metadata": {
    "deletable": false,
    "editable": false,
    "nbgrader": {
     "cell_type": "markdown",
     "checksum": "a7cc8ee3a9e697a66038adb00a37ef3c",
     "grade": false,
     "grade_id": "cell-ece95236d14b9bdd",
     "locked": true,
     "schema_version": 3,
     "solution": false,
     "task": false
    }
   },
   "source": [
    "Complete the following tail recursive version by filling in missing parts so that its behavior is the same as the iterative version above.\n",
    "\n",
    "Restrictions:\n",
    " - Must be tail recursive.\n",
    " - No vars/loops allowed.\n",
    " \n",
    "Try not to use return but we will not penalize you if you use return."
   ]
  },
  {
   "cell_type": "code",
   "execution_count": null,
   "metadata": {
    "deletable": false,
    "nbgrader": {
     "cell_type": "code",
     "checksum": "ce1649f587a3fcaa10e9eebcc4f1950e",
     "grade": false,
     "grade_id": "cell-df05298b72cd465d",
     "locked": false,
     "schema_version": 3,
     "solution": true,
     "task": false
    }
   },
   "outputs": [],
   "source": [
    "def findPatternInStringRec(str: String, pat: String, i: Int= 0, j: Int =0): Boolean = {\n",
    "    val n1 = str.size\n",
    "    val n2 = pat.size\n",
    "    if (i < n1 - n2 + 1){\n",
    "        if ( j < n2 && str(i+j) == pat(j)){\n",
    "            // YOUR CODE HERE\n",
    "            ???\n",
    "        } else if (j == n2) {\n",
    "            // YOUR CODE HERE\n",
    "            ???\n",
    "        } else { \n",
    "            // YOUR CODE HERE\n",
    "            ???\n",
    "        }\n",
    "    } else { \n",
    "        false\n",
    "    }\n",
    "}"
   ]
  },
  {
   "cell_type": "code",
   "execution_count": null,
   "metadata": {
    "deletable": false,
    "editable": false,
    "nbgrader": {
     "cell_type": "code",
     "checksum": "8411e8ce8ea2145d52370082ac925c35",
     "grade": true,
     "grade_id": "cell-4d5a2b813f6cbcc3",
     "locked": true,
     "points": 10,
     "schema_version": 3,
     "solution": false,
     "task": false
    }
   },
   "outputs": [],
   "source": [
    "assert(findPatternInStringRec(\"hello\", \"ll\"), \"Test 1 failed\")\n",
    "assert(!findPatternInStringRec(\"hello\", \"ellx\"), \"Test 2 failed\")\n",
    "assert(findPatternInStringRec(\"hello\", \"ello\"),  \"Test 3 failed\")\n",
    "assert(!findPatternInStringRec(\"hello\", \"hellx\"), \"Test 4 failed\")\n",
    "assert(!findPatternInStringRec(\"hello\", \"helloo\"), \"Test 5 failed\")\n",
    "assert(findPatternInStringRec(\"hello\", \"hello\"), \"Test 6 failed\")\n",
    "assert(findPatternInStringRec(\"hello\", \"\"), \"Test 7 failed\")\n",
    "assert(findPatternInStringRec(\"heheeheeeheeee\", \"heeee\"), \"Test 8 failed\")\n",
    "assert(!findPatternInStringRec(\"hello\", \"helo\"), \"Test 9 failed\")\n",
    "passed(10)"
   ]
  },
  {
   "cell_type": "markdown",
   "metadata": {
    "deletable": false,
    "editable": false,
    "nbgrader": {
     "cell_type": "markdown",
     "checksum": "eb079b8102dec627b1656b02d2a022ce",
     "grade": false,
     "grade_id": "cell-81cdcc323818976e",
     "locked": true,
     "schema_version": 3,
     "solution": false
    }
   },
   "source": [
    "## Problem 3 (22 points)\n",
    "\n",
    "Convert the following inductive definition for regular expressions into a grammar first and then into a set of scala classes.\n",
    "\n",
    "A regular expression is defined inductively as follows:\n",
    "- Any string s is an \"atomic\" regular expression.\n",
    "- If $r_1$, $r_2$ are regular expressions then so are\n",
    "  - The concatenation $r_1 ; r_2$, \n",
    "  - The disjunction $r_1 | r_2$, and \n",
    "  - The conjunction $r_1 \\& r_2$.\n",
    "- If $r$ is a regular expression, then its Kleene star $r^*$ is also a regular expression.\n",
    "\n",
    "Use the constructor symbols:\n",
    "  - $\\text{Atom}(s)$ to denote an atomic regular expression,\n",
    "  - $\\text{Concatenation}(r_1, r_2)$ for the \";\" operator, \n",
    "  - $\\text{OrOperator}(r_1, r_2)$ for the \"|\" operator, \n",
    "  - $\\text{AndOperator}(r_1, r_2)$ for the \"&\" operator and \n",
    "  - $\\text{KleeneStar}(r)$ for the Kleene-star operator. \n",
    "  \n",
    "You may use the nonterminal $\\textbf{string}$ without definition to denote a string of characters.\n",
    "\n",
    "\n"
   ]
  },
  {
   "cell_type": "markdown",
   "metadata": {
    "deletable": false,
    "editable": false,
    "nbgrader": {
     "cell_type": "markdown",
     "checksum": "94d67433a1337072493b15821ba3801b",
     "grade": false,
     "grade_id": "cell-f1ddab147675a4e6",
     "locked": true,
     "schema_version": 3,
     "solution": false
    }
   },
   "source": [
    "### A (7 point)\n",
    "Write the grammar using constructor symbols for the inductive definition above. __Tip:__ you can examine the notebooks with inductive definitions to see how we typeset the grammar. There are no tests for this because it will be manualy graded."
   ]
  },
  {
   "cell_type": "markdown",
   "metadata": {
    "deletable": false,
    "nbgrader": {
     "cell_type": "markdown",
     "checksum": "a9d62bc05c17700e2259c1fa8b298739",
     "grade": true,
     "grade_id": "answer_3a",
     "locked": false,
     "points": 7,
     "schema_version": 3,
     "solution": true
    }
   },
   "source": [
    "YOUR ANSWER HERE"
   ]
  },
  {
   "cell_type": "markdown",
   "metadata": {
    "deletable": false,
    "editable": false,
    "nbgrader": {
     "cell_type": "markdown",
     "checksum": "14931160f289eae6c41a5428943c4cdb",
     "grade": false,
     "grade_id": "cell-e0e8da3d6108f6e2",
     "locked": true,
     "schema_version": 3,
     "solution": false
    }
   },
   "source": [
    "### B (7 points)\n",
    "Define the structure as a set of case class in scala.\n"
   ]
  },
  {
   "cell_type": "code",
   "execution_count": null,
   "metadata": {
    "deletable": false,
    "nbgrader": {
     "cell_type": "code",
     "checksum": "339432608dee382ca197d43c4a4343c2",
     "grade": false,
     "grade_id": "answer_3b",
     "locked": false,
     "schema_version": 3,
     "solution": true
    }
   },
   "outputs": [],
   "source": [
    "sealed trait Regex\n",
    "// Use constructors: Atom, Concatenation, OrOperator, AndOperator and KleeneStar\n",
    "// YOUR CODE HERE\n",
    "???"
   ]
  },
  {
   "cell_type": "code",
   "execution_count": null,
   "metadata": {
    "deletable": false,
    "editable": false,
    "nbgrader": {
     "cell_type": "code",
     "checksum": "30d7dbe61101945a64fa3ab564f445e4",
     "grade": true,
     "grade_id": "tests_3b",
     "locked": true,
     "points": 7,
     "schema_version": 3,
     "solution": false
    }
   },
   "outputs": [],
   "source": [
    "//BEGIN TEST\n",
    "val v1 = Atom(\"Hello\")\n",
    "val v2 = Concatenation(v1, v1)\n",
    "val v3 = OrOperator(v1, v2)\n",
    "val v4 = KleeneStar(v3)\n",
    "val v5 = AndOperator(v1, v4)\n",
    "passed(10)\n",
    "//END TEST"
   ]
  },
  {
   "cell_type": "markdown",
   "metadata": {
    "deletable": false,
    "editable": false,
    "nbgrader": {
     "cell_type": "markdown",
     "checksum": "c0e4fcb1c125edb2bbe91ccd7e8e37a0",
     "grade": false,
     "grade_id": "cell-f847cff392d180bd",
     "locked": true,
     "schema_version": 3,
     "solution": false
    }
   },
   "source": [
    "### C (8 points)\n",
    "Write down the representation of the regular expression in Scala. Your cell must define a term that should be called `finalAnswerC`.\n",
    "\n",
    "$$ ( \\text{\"hello\"} |  (\\text{\"scala\"}; \\text{\"best\"})^* )^*$$\n"
   ]
  },
  {
   "cell_type": "code",
   "execution_count": null,
   "metadata": {
    "deletable": false,
    "nbgrader": {
     "cell_type": "code",
     "checksum": "2cd6d7a49cc2696ec846130bade12e09",
     "grade": false,
     "grade_id": "answer_3c",
     "locked": false,
     "schema_version": 3,
     "solution": true
    }
   },
   "outputs": [],
   "source": [
    "val finalAnswerC = {\n",
    "    // YOUR CODE HERE\n",
    "    ???\n",
    "}"
   ]
  },
  {
   "cell_type": "code",
   "execution_count": 0,
   "metadata": {
    "deletable": false,
    "editable": false,
    "nbgrader": {
     "cell_type": "code",
     "checksum": "8822552041350e61fa1b26b52b91e7c3",
     "grade": true,
     "grade_id": "tests_3c",
     "locked": true,
     "points": 8,
     "schema_version": 3,
     "solution": false
    }
   },
   "outputs": [
    {
     "name": "stderr",
     "output_type": "stream",
     "text": [
      "cmd0.sc:1: not found: type Regex\n",
      "def munge(r: Regex): String = r match {\n",
      "             ^cmd0.sc:9: not found: value finalAnswerC\n",
      "val res0_1 = assert(munge(finalAnswerC) == \"$K$$A$hello_O_$K$$A$scala$C$$A$best$S$$S$\")\n",
      "                          ^cmd0.sc:10: not found: value passed\n",
      "val res0_2 = passed(8)\n",
      "             ^cmd0.sc:2: not found: value Atom\n",
      "    case Atom(st) => \"$A$\"+st\n",
      "         ^cmd0.sc:3: not found: value Concatenation\n",
      "    case Concatenation(r1, r2) => munge(r1)+\"$C$\"+munge(r2)\n",
      "         ^cmd0.sc:4: not found: value KleeneStar\n",
      "    case KleeneStar(r) => \"$K$\"+munge(r)+\"$S$\"\n",
      "         ^cmd0.sc:5: not found: value OrOperator\n",
      "    case OrOperator(r1, r2) => munge(r1)+\"_O_\"+munge(r2)\n",
      "         ^cmd0.sc:6: not found: value AndOperator\n",
      "    case AndOperator(r1,r2) => munge(r1)+\"/\\\\\"+ munge(r2)\n",
      "         ^Compilation Failed"
     ]
    },
    {
     "ename": "",
     "evalue": "",
     "output_type": "error",
     "traceback": [
      "Compilation Failed"
     ]
    }
   ],
   "source": [
    "//BEGIN TEST\n",
    "def munge(r: Regex): String = r match {\n",
    "    case Atom(st) => \"$A$\"+st\n",
    "    case Concatenation(r1, r2) => munge(r1)+\"$C$\"+munge(r2)\n",
    "    case KleeneStar(r) => \"$K$\"+munge(r)+\"$S$\"\n",
    "    case OrOperator(r1, r2) => munge(r1)+\"_O_\"+munge(r2)\n",
    "    case AndOperator(r1,r2) => munge(r1)+\"/\\\\\"+ munge(r2)\n",
    "}\n",
    "\n",
    "assert(munge(finalAnswerC) == \"$K$$A$hello_O_$K$$A$scala$C$$A$best$S$$S$\")\n",
    "passed(8)\n",
    "//END TEST"
   ]
  },
  {
   "cell_type": "code",
   "execution_count": null,
   "metadata": {},
   "outputs": [],
   "source": [
    "def addNumbersUptoN(n: Int, a : Int = 0): Int = {\n",
    "       if (n <= 0) { 0 }\n",
    "       else { addNumbersUptoN(n-1, a  + 1.0/n) }\n",
    "}"
   ]
  },
  {
   "cell_type": "code",
   "execution_count": 4,
   "metadata": {},
   "outputs": [
    {
     "name": "stdout",
     "output_type": "stream",
     "text": [
      "1.8333333333333333"
     ]
    }
   ],
   "source": [
    "print(addNumbersUptoN(3))"
   ]
  },
  {
   "cell_type": "code",
   "execution_count": null,
   "metadata": {},
   "outputs": [],
   "source": []
  },
  {
   "cell_type": "code",
   "execution_count": null,
   "metadata": {},
   "outputs": [],
   "source": []
  }
 ],
 "metadata": {
  "kernelspec": {
   "display_name": "Scala",
   "language": "scala",
   "name": "scala"
  },
  "language_info": {
   "codemirror_mode": "text/x-scala",
   "file_extension": ".sc",
   "mimetype": "text/x-scala",
   "name": "scala",
   "nbconvert_exporter": "script",
   "version": "2.13.3"
  }
 },
 "nbformat": 4,
 "nbformat_minor": 2
}
